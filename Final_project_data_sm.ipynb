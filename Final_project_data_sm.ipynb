{
 "cells": [
  {
   "cell_type": "code",
   "execution_count": 7,
   "metadata": {},
   "outputs": [
    {
     "name": "stdout",
     "output_type": "stream",
     "text": [
      "File Name                                             Modified             Size\n",
      "CA_category_id.json                            2019-09-21 19:56:58         7911\n",
      "CAvideos.csv                                   2019-09-21 19:56:58     64067991\n",
      "DE_category_id.json                            2019-09-21 19:57:14         7911\n",
      "DEvideos.csv                                   2019-09-21 19:57:16     63040138\n",
      "FR_category_id.json                            2019-09-21 19:57:26         7911\n",
      "FRvideos.csv                                   2019-09-21 19:57:26     51424708\n",
      "GB_category_id.json                            2019-09-21 19:57:34         8225\n",
      "GBvideos.csv                                   2019-09-21 19:57:34     53213441\n",
      "IN_category_id.json                            2019-09-21 19:57:40         8225\n",
      "INvideos.csv                                   2019-09-21 19:57:40     59600439\n",
      "JP_category_id.json                            2019-09-21 19:57:46         8225\n",
      "JPvideos.csv                                   2019-09-21 19:57:46     28740747\n",
      "KR_category_id.json                            2019-09-21 19:57:50         8225\n",
      "KRvideos.csv                                   2019-09-21 19:57:50     34835868\n",
      "MX_category_id.json                            2019-09-21 19:57:52         8225\n",
      "MXvideos.csv                                   2019-09-21 19:57:52     45191541\n",
      "RU_category_id.json                            2019-09-21 19:57:58         8225\n",
      "RUvideos.csv                                   2019-09-21 19:57:58     76268286\n",
      "US_category_id.json                            2019-09-21 19:58:06         8496\n",
      "USvideos.csv                                   2019-09-21 19:58:06     62756152\n",
      "Extracting all the files now...\n",
      "Done!\n"
     ]
    }
   ],
   "source": [
    "from zipfile import ZipFile\n",
    "  \n",
    "# specifying the zip file name\n",
    "file_name = \"archive.zip\"\n",
    "  \n",
    "# opening the zip file in READ mode\n",
    "with ZipFile(file_name, 'r') as zip:\n",
    "    # printing all the contents of the zip file\n",
    "    zip.printdir()\n",
    "  \n",
    "    # extracting all the files\n",
    "    print('Extracting all the files now...')\n",
    "    zip.extractall()\n",
    "    print('Done!')"
   ]
  },
  {
   "cell_type": "code",
   "execution_count": 8,
   "metadata": {},
   "outputs": [],
   "source": [
    "import pandas as pd\n",
    "import numpy as np\n",
    "#Reading the files\n",
    "data1 = pd.read_csv('CAvideos.csv')\n",
    "data2 = pd.read_csv('GBvideos.csv')\n",
    "data3 = pd.read_csv('USvideos.csv')\n",
    "#Converting to NumPy arrays\n",
    "a1 = np.array(data1)\n",
    "a2 = np.array(data2)\n",
    "a3 = np.array(data3)\n",
    "#Adding Column for country\n",
    "aCA = np.insert(a1, 16, 'Canada', axis=1)\n",
    "aGB = np.insert(a2, 16, 'Great Britain', axis=1)\n",
    "aUS = np.insert(a3, 16, 'United States', axis=1)\n",
    "#Concatenating arrays\n",
    "Final = np.concatenate((aCA,aGB,aUS), axis=0)\n",
    "#Sorting by column 4 'category_id', can sort by any column\n",
    "Test = Final[Final[:, 4].argsort()]\n",
    "#print(Test)"
   ]
  },
  {
   "cell_type": "raw",
   "metadata": {},
   "source": [
    "Steve- start"
   ]
  },
  {
   "cell_type": "code",
   "execution_count": 9,
   "metadata": {},
   "outputs": [
    {
     "data": {
      "text/plain": [
       "array([['18.26.05', '18.25.05', '18.23.05', '18.13.05', '18.09.05',\n",
       "        '18.01.06', '18.22.05', '18.12.05', '18.24.05', '18.18.05'],\n",
       "       [3390985241, 3320852521, 3255551741, 3221581559, 3208582145,\n",
       "        3195970119, 3186517387, 3179295895, 3171315714, 3148615194]],\n",
       "      dtype=object)"
      ]
     },
     "execution_count": 9,
     "metadata": {},
     "output_type": "execute_result"
    }
   ],
   "source": [
    "#sum up views to day level\n",
    "dv=Test[:, [1,7]]\n",
    "\n",
    "date_views= dv[dv[:,0].argsort()]\n",
    "\n",
    "d_sorted_arr= dv[dv[:,0].argsort()]\n",
    "\n",
    "d_group_arr= np.split(d_sorted_arr[:,1:2], np.unique(d_sorted_arr[:,0], return_index= True)[1][1:])\n",
    "\n",
    "d_sum_arr = [x.sum() for x in d_group_arr]\n",
    "\n",
    "final_days = np.array(\n",
    "    (\n",
    "        np.unique(d_sorted_arr[:,0]),\n",
    "        d_sum_arr\n",
    "    )\n",
    ")\n",
    "\n",
    "x_final_days=final_days[:, final_days[-1,:].argsort()][:,::-1]\n",
    "\n",
    "#top 10 views day\n",
    "x_final_days=x_final_days[:,:10]\n",
    "x_final_days\n"
   ]
  },
  {
   "cell_type": "code",
   "execution_count": 10,
   "metadata": {},
   "outputs": [
    {
     "data": {
      "text/plain": [
       "(array(['17.01.12', '17.02.12', '17.03.12', '17.04.12', '17.05.12',\n",
       "        '17.06.12', '17.07.12', '17.08.12', '17.09.12', '17.10.12'],\n",
       "       dtype=object),\n",
       " array([968584518, 828716434, 954344730, 1068406309, 1124265914,\n",
       "        1060455021, 1121479665, 1014201943, 1047871529, 1112952615],\n",
       "       dtype=object))"
      ]
     },
     "execution_count": 10,
     "metadata": {},
     "output_type": "execute_result"
    }
   ],
   "source": [
    "#Sum up to day level first 10 days in Dec 2017\n",
    "d=Test[:, [1,7,8]]\n",
    "\n",
    "d_sorted= d[d[:,0].argsort()]\n",
    "\n",
    "d_group= np.split(d_sorted[:,1],np.unique(d_sorted[:,0], return_index= True)[1][1:])\n",
    "\n",
    "d_sum = [x.sum() for x in d_group]\n",
    "\n",
    "final_d = np.array(\n",
    "    (\n",
    "        np.unique(d_sorted[:,0]),\n",
    "        d_sum\n",
    "    )\n",
    ")\n",
    "\n",
    "\n",
    "d_final_day=final_d[:,:10]\n",
    "d_day=d_final_day[0]\n",
    "d_view=d_final_day[1]\n",
    "d_day,d_view"
   ]
  },
  {
   "cell_type": "code",
   "execution_count": 13,
   "metadata": {},
   "outputs": [
    {
     "data": {
      "image/png": "[encoded data removed]",
      "text/plain": [
       "<Figure size 720x288 with 1 Axes>"
      ]
     },
     "metadata": {
      "needs_background": "light"
     },
     "output_type": "display_data"
    }
   ],
   "source": [
    "#show firs 10 days of Dec 2017 views\n",
    "import pandas as pd\n",
    "import matplotlib.pyplot as plt\n",
    "\n",
    "xpoints = d_day\n",
    "ypoints = d_view\n",
    "plt.figure(1, figsize=(10, 4)) \n",
    "\n",
    "plt.plot(xpoints, ypoints)\n",
    "plt.show()"
   ]
  },
  {
   "cell_type": "code",
   "execution_count": 14,
   "metadata": {},
   "outputs": [
    {
     "data": {
      "text/plain": [
       "(array(['Childish Gambino - This Is America (Official Video)',\n",
       "        'Nicky Jam x J. Balvin - X (EQUIS) | Video Oficial | Prod. Afro Bros & Jeon',\n",
       "        'Bad Bunny - Amorfoda | Video Oficial',\n",
       "        'Ariana Grande - No Tears Left To Cry',\n",
       "        'Te Bote Remix - Casper, Nio García, Darell, Nicky Jam, Bad Bunny, Ozuna | Video Oficial'],\n",
       "       dtype=object),\n",
       " array([10271573447, 8354526576, 6966183290, 5797542590, 5168434018],\n",
       "       dtype=object))"
      ]
     },
     "execution_count": 14,
     "metadata": {},
     "output_type": "execute_result"
    }
   ],
   "source": [
    "#sum up views for each video for all three countries \n",
    "#create seperate array for titles and views\n",
    "high_views=Test[:, [2,7]]\n",
    "\n",
    "sorted_arr= high_views[high_views[:,0].argsort()]\n",
    "\n",
    "group_arr= np.split(sorted_arr[:,1], np.unique(sorted_arr[:,0], return_index= True)[1][1:])\n",
    "\n",
    "sum_arr = [x.sum() for x in group_arr]\n",
    "\n",
    "final_views = np.array(\n",
    "    (\n",
    "        np.unique(sorted_arr[:,0]),\n",
    "        sum_arr\n",
    "    )\n",
    ")\n",
    "\n",
    "#sort highest first\n",
    "x_final_arr=final_views[:, final_views[-1,:].argsort()][:,::-1]\n",
    "\n",
    "#show top 5\n",
    "x_final_arr[:,0:5]\n",
    "\n",
    "#break up for title and views for visualization\n",
    "title=x_final_arr[0]\n",
    "views=x_final_arr[1]\n",
    "\n",
    "#print top 5\n",
    "title=title[0:5] \n",
    "views=views[0:5]\n",
    "\n",
    "title, views"
   ]
  },
  {
   "cell_type": "code",
   "execution_count": 15,
   "metadata": {},
   "outputs": [
    {
     "data": {
      "image/png": "[encoded data removed]",
      "text/plain": [
       "<Figure size 432x288 with 1 Axes>"
      ]
     },
     "metadata": {
      "needs_background": "light"
     },
     "output_type": "display_data"
    }
   ],
   "source": [
    "#visualize top 5 likes total (US, GB and CA)\n",
    "\n",
    "# Bar chart \n",
    "plt.barh(title, views,color='green')\n",
    "\n",
    "\n",
    "plt.title(\"Top Videos\")\n",
    "\n",
    "# Setting the X and Y labels\n",
    "plt.ylabel(\"Title\")\n",
    "plt.ylabel(\"Views\") \n",
    "plt.title(\"Top 5 Views\")\n",
    "    \n",
    "plt.show()"
   ]
  },
  {
   "cell_type": "code",
   "execution_count": 16,
   "metadata": {},
   "outputs": [
    {
     "data": {
      "text/plain": [
       "(array(['Great Britain', 'United States', 'Canada'], dtype=object),\n",
       " array([230069198174, 96671770152, 46891975069], dtype=object))"
      ]
     },
     "execution_count": 16,
     "metadata": {},
     "output_type": "execute_result"
    }
   ],
   "source": [
    "#sum up views for each video for all three countries \n",
    "#create array for countries and views\n",
    "country_views=Test[:, [16,7]]\n",
    "\n",
    "sorted_arr= country_views[country_views[:,0].argsort()]\n",
    "\n",
    "group_arr= np.split(sorted_arr[:,1], np.unique(sorted_arr[:,0], return_index= True)[1][1:])\n",
    "\n",
    "sum_arr = [x.sum() for x in group_arr]\n",
    "\n",
    "final_arr = np.array(\n",
    "    (\n",
    "        np.unique(sorted_arr[:,0]),\n",
    "        sum_arr\n",
    "    )\n",
    ")\n",
    "\n",
    "#sort highest first\n",
    "x_final_arr=final_arr[:, final_arr[-1,:].argsort()][:,::-1]\n",
    "\n",
    "#show top 5\n",
    "x_final_arr[:,0:5]\n",
    "\n",
    "#break up for title and views for visualization\n",
    "country=x_final_arr[0]\n",
    "views=x_final_arr[1]\n",
    "\n",
    "#print top 5\n",
    "country=country[0:5] \n",
    "views=views[0:5]\n",
    "\n",
    "country, views"
   ]
  },
  {
   "cell_type": "code",
   "execution_count": 17,
   "metadata": {},
   "outputs": [
    {
     "data": {
      "image/png": "[encoded data removed]",
      "text/plain": [
       "<Figure size 432x288 with 1 Axes>"
      ]
     },
     "metadata": {},
     "output_type": "display_data"
    }
   ],
   "source": [
    "mylabels = [\"Great Britian\", \"United States\", \"Canada\"]\n",
    "myexplode = [0.2, 0, 0]\n",
    "\n",
    "plt.pie(views, labels = mylabels, explode = myexplode)\n",
    "plt.show() "
   ]
  },
  {
   "cell_type": "code",
   "execution_count": null,
   "metadata": {},
   "outputs": [],
   "source": []
  },
  {
   "cell_type": "code",
   "execution_count": 133,
   "metadata": {},
   "outputs": [
    {
     "data": {
      "text/html": [
       "<div>\n",
       "<style scoped>\n",
       "    .dataframe tbody tr th:only-of-type {\n",
       "        vertical-align: middle;\n",
       "    }\n",
       "\n",
       "    .dataframe tbody tr th {\n",
       "        vertical-align: top;\n",
       "    }\n",
       "\n",
       "    .dataframe thead th {\n",
       "        text-align: right;\n",
       "    }\n",
       "</style>\n",
       "<table border=\"1\" class=\"dataframe\">\n",
       "  <thead>\n",
       "    <tr style=\"text-align: right;\">\n",
       "      <th></th>\n",
       "      <th>Year</th>\n",
       "      <th>Month</th>\n",
       "      <th>Views</th>\n",
       "      <th>Likes</th>\n",
       "    </tr>\n",
       "  </thead>\n",
       "  <tbody>\n",
       "    <tr>\n",
       "      <th>2</th>\n",
       "      <td>18</td>\n",
       "      <td>01</td>\n",
       "      <td>24539647471</td>\n",
       "      <td>876144372</td>\n",
       "    </tr>\n",
       "    <tr>\n",
       "      <th>3</th>\n",
       "      <td>18</td>\n",
       "      <td>02</td>\n",
       "      <td>45884560276</td>\n",
       "      <td>1021192187</td>\n",
       "    </tr>\n",
       "    <tr>\n",
       "      <th>4</th>\n",
       "      <td>18</td>\n",
       "      <td>03</td>\n",
       "      <td>72842242603</td>\n",
       "      <td>1691088247</td>\n",
       "    </tr>\n",
       "    <tr>\n",
       "      <th>5</th>\n",
       "      <td>18</td>\n",
       "      <td>04</td>\n",
       "      <td>56278458815</td>\n",
       "      <td>1485563071</td>\n",
       "    </tr>\n",
       "    <tr>\n",
       "      <th>6</th>\n",
       "      <td>18</td>\n",
       "      <td>05</td>\n",
       "      <td>92064236145</td>\n",
       "      <td>2249774045</td>\n",
       "    </tr>\n",
       "    <tr>\n",
       "      <th>7</th>\n",
       "      <td>18</td>\n",
       "      <td>06</td>\n",
       "      <td>36881840268</td>\n",
       "      <td>1000345153</td>\n",
       "    </tr>\n",
       "  </tbody>\n",
       "</table>\n",
       "</div>"
      ],
      "text/plain": [
       "  Year Month        Views       Likes\n",
       "2   18    01  24539647471   876144372\n",
       "3   18    02  45884560276  1021192187\n",
       "4   18    03  72842242603  1691088247\n",
       "5   18    04  56278458815  1485563071\n",
       "6   18    05  92064236145  2249774045\n",
       "7   18    06  36881840268  1000345153"
      ]
     },
     "execution_count": 133,
     "metadata": {},
     "output_type": "execute_result"
    }
   ],
   "source": [
    "#Using dataframe for one example\n",
    "import pandas as pd\n",
    "\n",
    "df=pd.DataFrame(Test[:,[1,7,8]],columns = ['Date','Views','Likes'])\n",
    "#Break up date int year, month and day\n",
    "new=df[['Year', 'Day','Month']] = df['Date'].str.split('.', 2, expand=True)\n",
    "new = df.groupby(['Year', 'Month']).sum().reset_index()\n",
    "\n",
    "new=new.drop(columns=['Date', 'Day'])\n",
    "#filter out 2017 keep 2018 first 6 months\n",
    "new=new.loc[new['Year'] == '18']\n",
    "new"
   ]
  },
  {
   "cell_type": "code",
   "execution_count": 135,
   "metadata": {},
   "outputs": [
    {
     "data": {
      "image/png": "[encoded data removed]",
      "text/plain": [
       "<Figure size 1080x288 with 1 Axes>"
      ]
     },
     "metadata": {
      "needs_background": "light"
     },
     "output_type": "display_data"
    }
   ],
   "source": [
    "# Define data values\n",
    "x = new['Month']\n",
    "y = new['Views']\n",
    "z = new['Likes']\n",
    "\n",
    "plt.figure(1, figsize=(15, 4)) \n",
    "\n",
    "plt.plot(x, y,'o-g')\n",
    "plt.plot(x, z, 'o-b')\n",
    "# Plot another line on the same chart/graph\n",
    "plt.title(\"Views/Likes 2018 by Month(Jan-June) \")\n",
    "plt.legend(['Views', 'Likes'])\n",
    "plt.show()"
   ]
  },
  {
   "cell_type": "raw",
   "metadata": {},
   "source": [
    "Steve end"
   ]
  },
  {
   "cell_type": "code",
   "execution_count": 121,
   "metadata": {},
   "outputs": [
    {
     "name": "stdout",
     "output_type": "stream",
     "text": [
      "The video in the US with the most views is Childish Gambino - This Is America (Official Video) with 225211923 views.\n",
      "The video in Canada with the most views is YouTube Rewind: The Shape of 2017 | #YouTubeRewind with 137843120 views.\n",
      "The video in Great Britain with the most views is Nicky Jam x J. Balvin - X (EQUIS) | Video Oficial | Prod. Afro Bros & Jeon with 424538912 views.\n"
     ]
    }
   ],
   "source": [
    "#find the video with the most views from each country\n",
    "USmaxViews, CAmaxViews, GBmaxViews=0,0,0\n",
    "USmaxVideo, CAmaxVideo, GBmaxVideo=Test[0][2], Test[0][2], Test[0][2]\n",
    "for i in range(Test.shape[0]):\n",
    "    if Test[i][16]=='United States':\n",
    "        if Test[i][7]>USmaxViews:\n",
    "            USmaxViews=Test[i][7]\n",
    "            USmaxVideo=Test[i][2]\n",
    "    if Test[i][16]=='Canada':\n",
    "        if Test[i][7]>CAmaxViews:\n",
    "            CAmaxViews=Test[i][7]\n",
    "            CAmaxVideo=Test[i][2]\n",
    "    if Test[i][16]=='Great Britain':\n",
    "        if Test[i][7]>GBmaxViews:\n",
    "            GBmaxViews=Test[i][7]\n",
    "            GBmaxVideo=Test[i][2]\n",
    "        \n",
    "print('The video in the US with the most views is',USmaxVideo,'with',USmaxViews,'views.') \n",
    "print('The video in Canada with the most views is',CAmaxVideo,'with',CAmaxViews,'views.')\n",
    "print('The video in Great Britain with the most views is',GBmaxVideo,'with',GBmaxViews,'views.') "
   ]
  },
  {
   "cell_type": "code",
   "execution_count": 122,
   "metadata": {},
   "outputs": [
    {
     "data": {
      "image/png": "[encoded data removed]",
      "text/plain": [
       "<Figure size 432x288 with 1 Axes>"
      ]
     },
     "metadata": {
      "needs_background": "light"
     },
     "output_type": "display_data"
    }
   ],
   "source": [
    "#Visualize top views for each country\n",
    "titles =np.concatenate((USmaxVideo, CAmaxVideo,GBmaxVideo), axis=None)\n",
    "views = np.concatenate((USmaxViews, CAmaxViews,GBmaxViews), axis=None)\n",
    "\n",
    "  \n",
    "# Bar chart \n",
    "plt.barh(titles, views)\n",
    "  \n",
    "plt.title(\"Top Videos\")\n",
    "  \n",
    "# Setting the X and Y labels\n",
    "plt.ylabel(\"Title\")\n",
    "plt.ylabel(\"Views\") \n",
    "plt.title(\"Vertical bar graph\")\n",
    "plt.show()\n"
   ]
  },
  {
   "cell_type": "code",
   "execution_count": 123,
   "metadata": {},
   "outputs": [
    {
     "name": "stdout",
     "output_type": "stream",
     "text": [
      "The video with the most likes is BTS (방탄소년단) 'FAKE LOVE' Official MV with 5613827 likes.\n"
     ]
    }
   ],
   "source": [
    "#find video with the most likes\n",
    "maxLikes=0\n",
    "maxLikesVideo=Test[0][2]\n",
    "for i in range(Test.shape[0]):\n",
    "    if Test[i][8]>maxLikes:\n",
    "        maxLikes=Test[i][8]\n",
    "        maxLikesVideo=Test[i][2]\n",
    "\n",
    "print('The video with the most likes is',maxLikesVideo,'with',maxLikes,'likes.')"
   ]
  },
  {
   "cell_type": "code",
   "execution_count": null,
   "metadata": {},
   "outputs": [],
   "source": []
  }
 ],
 "metadata": {
  "kernelspec": {
   "display_name": "Python 3",
   "language": "python",
   "name": "python3"
  },
  "language_info": {
   "codemirror_mode": {
    "name": "ipython",
    "version": 3
   },
   "file_extension": ".py",
   "mimetype": "text/x-python",
   "name": "python",
   "nbconvert_exporter": "python",
   "pygments_lexer": "ipython3",
   "version": "3.7.6"
  }
 },
 "nbformat": 4,
 "nbformat_minor": 5
}
