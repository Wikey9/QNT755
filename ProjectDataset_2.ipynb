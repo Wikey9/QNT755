{
 "cells": [
  {
   "cell_type": "code",
   "execution_count": 1,
   "id": "a72f2d48-e9bb-4ea4-8e40-83aebac14eaa",
   "metadata": {},
   "outputs": [
    {
     "name": "stdout",
     "output_type": "stream",
     "text": [
      "File Name                                             Modified             Size\n",
      "CA_category_id.json                            2019-09-21 19:56:58         7911\n",
      "CAvideos.csv                                   2019-09-21 19:56:58     64067991\n",
      "DE_category_id.json                            2019-09-21 19:57:14         7911\n",
      "DEvideos.csv                                   2019-09-21 19:57:16     63040138\n",
      "FR_category_id.json                            2019-09-21 19:57:26         7911\n",
      "FRvideos.csv                                   2019-09-21 19:57:26     51424708\n",
      "GB_category_id.json                            2019-09-21 19:57:34         8225\n",
      "GBvideos.csv                                   2019-09-21 19:57:34     53213441\n",
      "IN_category_id.json                            2019-09-21 19:57:40         8225\n",
      "INvideos.csv                                   2019-09-21 19:57:40     59600439\n",
      "JP_category_id.json                            2019-09-21 19:57:46         8225\n",
      "JPvideos.csv                                   2019-09-21 19:57:46     28740747\n",
      "KR_category_id.json                            2019-09-21 19:57:50         8225\n",
      "KRvideos.csv                                   2019-09-21 19:57:50     34835868\n",
      "MX_category_id.json                            2019-09-21 19:57:52         8225\n",
      "MXvideos.csv                                   2019-09-21 19:57:52     45191541\n",
      "RU_category_id.json                            2019-09-21 19:57:58         8225\n",
      "RUvideos.csv                                   2019-09-21 19:57:58     76268286\n",
      "US_category_id.json                            2019-09-21 19:58:06         8496\n",
      "USvideos.csv                                   2019-09-21 19:58:06     62756152\n",
      "Extracting all the files now...\n",
      "Done!\n"
     ]
    }
   ],
   "source": [
    "from zipfile import ZipFile\n",
    "  \n",
    "# specifying the zip file name\n",
    "file_name = \"archive.zip\"\n",
    "  \n",
    "# opening the zip file in READ mode\n",
    "with ZipFile(file_name, 'r') as zip:\n",
    "    # printing all the contents of the zip file\n",
    "    zip.printdir()\n",
    "  \n",
    "    # extracting all the files\n",
    "    print('Extracting all the files now...')\n",
    "    zip.extractall()\n",
    "    print('Done!')"
   ]
  },
  {
   "cell_type": "code",
   "execution_count": 2,
   "id": "ace961e1-4f7c-42c8-b5a8-1e14a39b8554",
   "metadata": {},
   "outputs": [
    {
     "name": "stdout",
     "output_type": "stream",
     "text": [
      "[['JezE6iZUWxo' '18.05.03'\n",
      "  '『僕のヒーローアカデミア』（ヒロアカ）TVアニメ第3期PV第2弾／OPテーマ：「ODD FUTURE」UVERworld' ...\n",
      "  False\n",
      "  'ヒロアカ第3期、2018年4月7日（土）放送スタート！\\\\n毎週土曜夕方5:30より読売テレビ・日本テレビ系全国29局ネット\\\\n\\\\nオープニングテーマ：「ODD FUTURE」UVERworld（Sony Music Records）\\\\n\\\\n＜スタッフ＞\\\\n原作・ストーリー原案：堀越耕平（集英社「週刊少年ジャンプ」連載）／監督：長崎健司／脚本：黒田洋介／キャラクターデザイン：馬越嘉彦／キャラクターデザイン補佐・総作画監督：小田嶋瞳／総作画監督：音楽：林ゆうき／アニメーション制作：ボンズ\\\\n\\\\n＜キャスト＞\\\\n緑谷出久：山下大輝／オールマイト：三宅健太／爆豪勝己：岡本信彦／麗日お茶子：佐倉綾音／飯田天哉：石川界人／轟焦凍：梶裕貴／蛙吹梅雨：悠木碧／峰田実：広橋涼／切島鋭児郎：増田俊樹／八百万百：井上麻里奈／常闇踏陰：細谷佳正／上鳴電気：畠中祐／相澤消太：諏訪部順一\\\\n死柄木弔：内山昂輝／荼毘：下野紘／トガヒミコ：福圓美里／オール・フォー・ワン：大塚明夫\\\\n\\\\nhttp://heroaca.com\\\\n©堀越耕平／集英社・僕のヒーローアカデミア製作委員会'\n",
      "  'Canada']\n",
      " ['lGEY8IulWiA' '18.13.02' 'Lucas the Spider - Musical Spider' ... False\n",
      "  \"Spiders can have big dreams too!\\\\n\\\\nCheck out our new online store! https://teespring.com/stores/lucas-the-spider\\\\n\\\\nProceeds will continue to benefit a non-profit which provides no-cost legal services for survivors of domestic violence. It'll also help fund the planning and development of future Lucas the Spider projects! Thank you!\"\n",
      "  'United States']\n",
      " ['ILZ7Oy3gM5U' '18.26.02' 'Dumping on Fifty Shades Freed for 25 Minutes'\n",
      "  ... False\n",
      "  \"I didn't even talk about the part where Christian Grey starts playing the piano and singing and even the characters inside the story are surprised and confused.\\\\n\\\\nClick the fanfic that deserves to be made into a movie more than Fifty Shades of Grey:\\\\nA teenage girl's Twilight fanfiction where she casts herself as Bella and her real-life crush as the romantic lead - https://www.patreon.com/JennyNicholson\\\\nReylo coffee shop AU, released into theaters as Episode IX - https://twitter.com/JennyENicholson\\\\nA brony's fanfic where he goes to Equestria and he meets all the ponies and has to protect them because he's very strong - https://www.instagram.com/spider_jewel/\\\\nLucius Malfoy/Arthur Weasley forbidden romance - https://www.facebook.com/JennyNicholsonVids/\\\\nHomestuck vore - https://spiderjewel.tumblr.com/\"\n",
      "  'Great Britain']\n",
      " ...\n",
      " ['Q1CFfU2gXHw' '18.28.01'\n",
      "  'Apple HomePod: Everything to know before you buy (Apple Byte)' ...\n",
      "  False\n",
      "  \"We'll break down all the new Apple HomePod details you need to know. Apple announced the HomePod's Jan. 26 preorder open before its Feb. 9 release date. Apple HomePod coming on Feb. 9, preorders open on Friday - https://www.cnet.com/news/apple-homepod-coming-on-9-february-preorders-open-on-friday/\\\\n\\\\nSubscribe to CNET: http://cnet.co/2heRhep\\\\nCheck out our playlists: http://cnet.co/2g8kcf4\\\\nDownload the new CNET app: https://cnet.app.link/GWuXq8ExzG\\\\nLike us on Facebook: https://www.facebook.com/cnet\\\\nFollow us on Twitter: https://www.twitter.com/cnet\\\\nFollow us on Instagram: http://bit.ly/2icCYYm\"\n",
      "  'United States']\n",
      " ['miD3ujpqYTk' '17.14.12' 'Deivamagal Episode 1413, 13/12/17' ... False\n",
      "  'Deivamagal Episode 1413\\\\nSubscribe: https://goo.gl/eSvMiG  Prev Episode: https://goo.gl/P78wAV  Priyamanaval Episode 889: https://goo.gl/m1Dxx9  Best of Deivamagal: https://goo.gl/oWdXQ2  Best of Moorthy comedy: https://goo.gl/05WSN4  Deivamagal All Episodes: https://goo.gl/Z5L59u  Deivamagal Title Song: https://goo.gl/1kRyA1  Deivamagal Romantic Song: https://goo.gl/Qq6x5B\\\\nChannel: http://www.youtube.com/user/VikatanTV\\\\nFacebook: https://www.facebook.com/deivamagal'\n",
      "  'Canada']\n",
      " ['AlrbKKGIcjI' '17.15.11' 'Deivamagal Episode 1388, 14/11/17' ... False\n",
      "  'Deivamagal Episode 1388\\\\nSubscribe: https://goo.gl/eSvMiG  Prev Episode: https://goo.gl/iD16Ah  Priyamanaval Episode 864: https://goo.gl/CWFiWK  Best of Deivamagal: https://goo.gl/oWdXQ2  Best of Moorthy comedy: https://goo.gl/05WSN4  Deivamagal All Episodes: https://goo.gl/Z5L59u  Deivamagal Title Song: https://goo.gl/1kRyA1  Deivamagal Romantic Song: https://goo.gl/Qq6x5B\\\\nChannel: http://www.youtube.com/user/VikatanTV\\\\nFacebook: https://www.facebook.com/deivamagal'\n",
      "  'Canada']]\n"
     ]
    }
   ],
   "source": [
    "import pandas as pd\n",
    "import numpy as np\n",
    "#Reading the files\n",
    "data1 = pd.read_csv('CAvideos.csv')\n",
    "data2 = pd.read_csv('GBvideos.csv')\n",
    "data3 = pd.read_csv('USvideos.csv')\n",
    "#Converting to NumPy arrays\n",
    "a1 = np.array(data1)\n",
    "a2 = np.array(data2)\n",
    "a3 = np.array(data3)\n",
    "#Adding Column for country\n",
    "aCA = np.insert(a1, 16, 'Canada', axis=1)\n",
    "aGB = np.insert(a2, 16, 'Great Britain', axis=1)\n",
    "aUS = np.insert(a3, 16, 'United States', axis=1)\n",
    "#Concatenating arrays\n",
    "Final = np.concatenate((aCA,aGB,aUS), axis=0)\n",
    "#Sorting by column 4 'category_id', can sort by any column\n",
    "Test = Final[Final[:, 4].argsort()]\n",
    "print(Test)"
   ]
  },
  {
   "cell_type": "code",
   "execution_count": 14,
   "id": "cebe79b1-cd4f-446a-beca-342bc1efbcaa",
   "metadata": {},
   "outputs": [
    {
     "name": "stdout",
     "output_type": "stream",
     "text": [
      "['84iujjDAqHw' '18.15.02'\n",
      " 'INCREDIBLES 2 Teaser Trailer #2 (2018) Disney Pixar Animated Movie HD'\n",
      " 'Comicbook.com' 1 '2018-02-11T14:01:03.000Z'\n",
      " 'incredibles 2|\"trailer\"|\"incredibles 2 trailer\"|\"incredibles\"|\"incredibles trailer\"|\"incredibles 2 teaser trailer\"|\"disney\"|\"pixar\"|\"animation\"|\"animated\"'\n",
      " 84647 1303 113 77 'https://i.ytimg.com/vi/84iujjDAqHw/default.jpg' False\n",
      " False False\n",
      " 'Incredibles 2 Teaser Trailer #2 (2018) Disney Pixar Animated Movie HD\\\\n\\\\nSubscribe for more official Trailers, TV Spots, Movie Clips, Featurettes and exclusive content!'\n",
      " 'United States']\n"
     ]
    }
   ],
   "source": [
    "#just a test print to check the index of each column name\n",
    "print(Test[100])"
   ]
  },
  {
   "cell_type": "code",
   "execution_count": 26,
   "id": "cc59dc43-ad84-43ad-99aa-306c3463820f",
   "metadata": {},
   "outputs": [
    {
     "name": "stdout",
     "output_type": "stream",
     "text": [
      "The video in the US with the most views is Childish Gambino - This Is America (Official Video) with 225211923 views.\n",
      "The video in Canada with the most views is YouTube Rewind: The Shape of 2017 | #YouTubeRewind with 137843120 views.\n",
      "The video in Great Britain with the most views is Nicky Jam x J. Balvin - X (EQUIS) | Video Oficial | Prod. Afro Bros & Jeon with 424538912 views.\n"
     ]
    }
   ],
   "source": [
    "#find the video with the most views from each country\n",
    "USmaxViews, CAmaxViews, GBmaxViews=0,0,0\n",
    "USmaxVideo, CAmaxVideo, GBmaxVideo=Test[0][2], Test[0][2], Test[0][2]\n",
    "for i in range(Test.shape[0]):\n",
    "    if Test[i][16]=='United States':\n",
    "        if Test[i][7]>USmaxViews:\n",
    "            USmaxViews=Test[i][7]\n",
    "            USmaxVideo=Test[i][2]\n",
    "    if Test[i][16]=='Canada':\n",
    "        if Test[i][7]>CAmaxViews:\n",
    "            CAmaxViews=Test[i][7]\n",
    "            CAmaxVideo=Test[i][2]\n",
    "    if Test[i][16]=='Great Britain':\n",
    "        if Test[i][7]>GBmaxViews:\n",
    "            GBmaxViews=Test[i][7]\n",
    "            GBmaxVideo=Test[i][2]\n",
    "        \n",
    "print('The video in the US with the most views is',USmaxVideo,'with',USmaxViews,'views.') \n",
    "print('The video in Canada with the most views is',CAmaxVideo,'with',CAmaxViews,'views.')\n",
    "print('The video in Great Britain with the most views is',GBmaxVideo,'with',GBmaxViews,'views.') "
   ]
  },
  {
   "cell_type": "code",
   "execution_count": 27,
   "id": "cae65022-b6e0-4fee-9a6b-dc5ae7faf128",
   "metadata": {},
   "outputs": [
    {
     "name": "stdout",
     "output_type": "stream",
     "text": [
      "The video with the most likes is BTS (방탄소년단) 'FAKE LOVE' Official MV with 5613827 likes.\n"
     ]
    }
   ],
   "source": [
    "#find video with the most likes\n",
    "maxLikes=0\n",
    "maxLikesVideo=Test[0][2]\n",
    "for i in range(Test.shape[0]):\n",
    "    if Test[i][8]>maxLikes:\n",
    "        maxLikes=Test[i][8]\n",
    "        maxLikesVideo=Test[i][2]\n",
    "\n",
    "print('The video with the most likes is',maxLikesVideo,'with',maxLikes,'likes.')"
   ]
  }
 ],
 "metadata": {
  "kernelspec": {
   "display_name": "Python 3 (ipykernel)",
   "language": "python",
   "name": "python3"
  },
  "language_info": {
   "codemirror_mode": {
    "name": "ipython",
    "version": 3
   },
   "file_extension": ".py",
   "mimetype": "text/x-python",
   "name": "python",
   "nbconvert_exporter": "python",
   "pygments_lexer": "ipython3",
   "version": "3.8.8"
  }
 },
 "nbformat": 4,
 "nbformat_minor": 5
}
